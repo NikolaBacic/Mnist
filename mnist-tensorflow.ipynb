{
 "cells": [
  {
   "cell_type": "code",
   "execution_count": 1,
   "metadata": {},
   "outputs": [
    {
     "name": "stdout",
     "output_type": "stream",
     "text": [
      "Collecting tensorflow==2.0.0-alpha0\r\n",
      "\u001b[?25l  Downloading https://files.pythonhosted.org/packages/29/39/f99185d39131b8333afcfe1dcdb0629c2ffc4ecfb0e4c14ca210d620e56c/tensorflow-2.0.0a0-cp36-cp36m-manylinux1_x86_64.whl (79.9MB)\r\n",
      "\u001b[K    100% |████████████████████████████████| 79.9MB 522kB/s \r\n",
      "\u001b[?25hRequirement already satisfied: wheel>=0.26 in /opt/conda/lib/python3.6/site-packages (from tensorflow==2.0.0-alpha0) (0.31.1)\r\n",
      "Requirement already satisfied: keras-preprocessing>=1.0.5 in /opt/conda/lib/python3.6/site-packages (from tensorflow==2.0.0-alpha0) (1.0.9)\r\n",
      "Requirement already satisfied: termcolor>=1.1.0 in /opt/conda/lib/python3.6/site-packages (from tensorflow==2.0.0-alpha0) (1.1.0)\r\n",
      "Collecting tf-estimator-nightly<1.14.0.dev2019030116,>=1.14.0.dev2019030115 (from tensorflow==2.0.0-alpha0)\r\n",
      "\u001b[?25l  Downloading https://files.pythonhosted.org/packages/13/82/f16063b4eed210dc2ab057930ac1da4fbe1e91b7b051a6c8370b401e6ae7/tf_estimator_nightly-1.14.0.dev2019030115-py2.py3-none-any.whl (411kB)\r\n",
      "\u001b[K    100% |████████████████████████████████| 419kB 24.4MB/s \r\n",
      "\u001b[?25hCollecting tb-nightly<1.14.0a20190302,>=1.14.0a20190301 (from tensorflow==2.0.0-alpha0)\r\n",
      "\u001b[?25l  Downloading https://files.pythonhosted.org/packages/a9/51/aa1d756644bf4624c03844115e4ac4058eff77acd786b26315f051a4b195/tb_nightly-1.14.0a20190301-py3-none-any.whl (3.0MB)\r\n",
      "\u001b[K    100% |████████████████████████████████| 3.0MB 9.1MB/s \r\n",
      "\u001b[?25hRequirement already satisfied: numpy<2.0,>=1.14.5 in /opt/conda/lib/python3.6/site-packages (from tensorflow==2.0.0-alpha0) (1.16.3)\r\n",
      "Requirement already satisfied: keras-applications>=1.0.6 in /opt/conda/lib/python3.6/site-packages (from tensorflow==2.0.0-alpha0) (1.0.7)\r\n",
      "Collecting google-pasta>=0.1.2 (from tensorflow==2.0.0-alpha0)\r\n",
      "\u001b[?25l  Downloading https://files.pythonhosted.org/packages/f9/68/a14620bfb042691f532dcde8576ff82ee82e4c003cdc0a3dbee5f289cee6/google_pasta-0.1.6-py3-none-any.whl (51kB)\r\n",
      "\u001b[K    100% |████████████████████████████████| 61kB 15.8MB/s \r\n",
      "\u001b[?25hRequirement already satisfied: six>=1.10.0 in /opt/conda/lib/python3.6/site-packages (from tensorflow==2.0.0-alpha0) (1.12.0)\r\n",
      "Requirement already satisfied: astor>=0.6.0 in /opt/conda/lib/python3.6/site-packages (from tensorflow==2.0.0-alpha0) (0.7.1)\r\n",
      "Requirement already satisfied: grpcio>=1.8.6 in /opt/conda/lib/python3.6/site-packages (from tensorflow==2.0.0-alpha0) (1.20.0)\r\n",
      "Requirement already satisfied: absl-py>=0.7.0 in /opt/conda/lib/python3.6/site-packages (from tensorflow==2.0.0-alpha0) (0.7.1)\r\n",
      "Requirement already satisfied: protobuf>=3.6.1 in /opt/conda/lib/python3.6/site-packages (from tensorflow==2.0.0-alpha0) (3.7.1)\r\n",
      "Requirement already satisfied: gast>=0.2.0 in /opt/conda/lib/python3.6/site-packages (from tensorflow==2.0.0-alpha0) (0.2.2)\r\n",
      "Requirement already satisfied: werkzeug>=0.11.15 in /opt/conda/lib/python3.6/site-packages (from tb-nightly<1.14.0a20190302,>=1.14.0a20190301->tensorflow==2.0.0-alpha0) (0.14.1)\r\n",
      "Requirement already satisfied: markdown>=2.6.8 in /opt/conda/lib/python3.6/site-packages (from tb-nightly<1.14.0a20190302,>=1.14.0a20190301->tensorflow==2.0.0-alpha0) (3.1)\r\n",
      "Requirement already satisfied: h5py in /opt/conda/lib/python3.6/site-packages (from keras-applications>=1.0.6->tensorflow==2.0.0-alpha0) (2.9.0)\r\n",
      "Requirement already satisfied: setuptools in /opt/conda/lib/python3.6/site-packages (from protobuf>=3.6.1->tensorflow==2.0.0-alpha0) (39.1.0)\r\n",
      "Installing collected packages: tf-estimator-nightly, tb-nightly, google-pasta, tensorflow\r\n",
      "  Found existing installation: tensorflow 1.13.1\r\n",
      "    Uninstalling tensorflow-1.13.1:\r\n",
      "      Successfully uninstalled tensorflow-1.13.1\r\n",
      "Successfully installed google-pasta-0.1.6 tb-nightly-1.14.0a20190301 tensorflow-2.0.0a0 tf-estimator-nightly-1.14.0.dev2019030115\r\n",
      "\u001b[33mYou are using pip version 19.0.3, however version 19.1.1 is available.\r\n",
      "You should consider upgrading via the 'pip install --upgrade pip' command.\u001b[0m\r\n"
     ]
    }
   ],
   "source": [
    "# installing new version of tensorflow -> 2.0 alpha\n",
    "\n",
    "! pip install tensorflow==2.0.0-alpha0 "
   ]
  },
  {
   "cell_type": "code",
   "execution_count": 2,
   "metadata": {
    "_cell_guid": "b1076dfc-b9ad-4769-8c92-a6c4dae69d19",
    "_uuid": "8f2839f25d086af736a60e9eeb907d3b93b6e0e5"
   },
   "outputs": [],
   "source": [
    "import tensorflow as tf\n",
    "\n",
    "import numpy as np\n",
    "import pandas as pd\n",
    "import matplotlib.pyplot as plt \n"
   ]
  },
  {
   "cell_type": "code",
   "execution_count": 3,
   "metadata": {},
   "outputs": [],
   "source": [
    "df_raw = pd.read_csv('../input/train.csv')"
   ]
  },
  {
   "cell_type": "code",
   "execution_count": 4,
   "metadata": {},
   "outputs": [],
   "source": [
    "train_x = df_raw.drop(labels=['label'],axis=1)\n",
    "\n",
    "train_y = df_raw['label']"
   ]
  },
  {
   "cell_type": "code",
   "execution_count": 5,
   "metadata": {},
   "outputs": [
    {
     "data": {
      "text/plain": [
       "(42000, 784)"
      ]
     },
     "execution_count": 5,
     "metadata": {},
     "output_type": "execute_result"
    }
   ],
   "source": [
    "train_x.shape"
   ]
  },
  {
   "cell_type": "code",
   "execution_count": 6,
   "metadata": {},
   "outputs": [
    {
     "name": "stderr",
     "output_type": "stream",
     "text": [
      "/opt/conda/lib/python3.6/site-packages/ipykernel_launcher.py:3: FutureWarning: Method .as_matrix will be removed in a future version. Use .values instead.\n",
      "  This is separate from the ipykernel package so we can avoid doing imports until\n"
     ]
    },
    {
     "data": {
      "text/plain": [
       "<matplotlib.image.AxesImage at 0x7f48c7a02940>"
      ]
     },
     "execution_count": 6,
     "metadata": {},
     "output_type": "execute_result"
    },
    {
     "data": {
      "image/png": "[encoded data removed]",
      "text/plain": [
       "<Figure size 432x288 with 1 Axes>"
      ]
     },
     "metadata": {},
     "output_type": "display_data"
    }
   ],
   "source": [
    "#converting from pd to np array and normalizing it\n",
    "\n",
    "train_x = np.reshape(train_x.as_matrix(),newshape=(42000,28,28,1))\n",
    "\n",
    "# visualizing the data\n",
    "plt.imshow(np.reshape(train_x[2626],newshape=(28,28)))\n",
    "\n"
   ]
  },
  {
   "cell_type": "code",
   "execution_count": 7,
   "metadata": {},
   "outputs": [],
   "source": [
    "#data augmentation\n",
    "\n",
    "datagen = tf.keras.preprocessing.image.ImageDataGenerator(\n",
    "        rotation_range=10,  \n",
    "        zoom_range = 0.10,  \n",
    "        width_shift_range=0.1, \n",
    "        height_shift_range=0.1)\n"
   ]
  },
  {
   "cell_type": "code",
   "execution_count": 8,
   "metadata": {},
   "outputs": [],
   "source": [
    "#build the tf.keras.Sequential model by stacking layers. Choose an optimizer and loss function used for training:\n",
    "\n",
    "model = tf.keras.Sequential([\n",
    "    tf.keras.layers.Flatten(input_shape=(28,28,1)),\n",
    "    tf.keras.layers.Dense(512,activation='relu'),\n",
    "    tf.keras.layers.Dropout(0.2),\n",
    "    tf.keras.layers.Dense(256,activation='relu'),\n",
    "    tf.keras.layers.Dropout(0.2),\n",
    "    tf.keras.layers.Dense(10,activation='softmax')])\n",
    "\n",
    "\n",
    "model.compile(optimizer = 'adam', loss = 'sparse_categorical_crossentropy',metrics=['accuracy'])"
   ]
  },
  {
   "cell_type": "code",
   "execution_count": 9,
   "metadata": {},
   "outputs": [
    {
     "name": "stdout",
     "output_type": "stream",
     "text": [
      "Epoch 1/40\n",
      "165/165 [==============================] - 16s 100ms/step - loss: 0.7529 - accuracy: 0.7605\n",
      "Epoch 2/40\n",
      "165/165 [==============================] - 16s 96ms/step - loss: 0.3140 - accuracy: 0.9045\n",
      "Epoch 3/40\n",
      "165/165 [==============================] - 15s 93ms/step - loss: 0.2430 - accuracy: 0.9250\n",
      "Epoch 4/40\n",
      "165/165 [==============================] - 15s 92ms/step - loss: 0.2028 - accuracy: 0.9372\n",
      "Epoch 5/40\n",
      "165/165 [==============================] - 15s 91ms/step - loss: 0.1832 - accuracy: 0.9429\n",
      "Epoch 6/40\n",
      "165/165 [==============================] - 15s 90ms/step - loss: 0.1649 - accuracy: 0.9500\n",
      "Epoch 7/40\n",
      "165/165 [==============================] - 15s 93ms/step - loss: 0.1501 - accuracy: 0.9541\n",
      "Epoch 8/40\n",
      "165/165 [==============================] - 15s 93ms/step - loss: 0.1448 - accuracy: 0.9565\n",
      "Epoch 9/40\n",
      "165/165 [==============================] - 15s 90ms/step - loss: 0.1400 - accuracy: 0.9569\n",
      "Epoch 10/40\n",
      "165/165 [==============================] - 15s 90ms/step - loss: 0.1308 - accuracy: 0.9591\n",
      "Epoch 11/40\n",
      "165/165 [==============================] - 15s 92ms/step - loss: 0.1208 - accuracy: 0.9615\n",
      "Epoch 12/40\n",
      "165/165 [==============================] - 15s 90ms/step - loss: 0.1192 - accuracy: 0.9622\n",
      "Epoch 13/40\n",
      "165/165 [==============================] - 15s 91ms/step - loss: 0.1108 - accuracy: 0.9645\n",
      "Epoch 14/40\n",
      "165/165 [==============================] - 15s 89ms/step - loss: 0.1184 - accuracy: 0.9641\n",
      "Epoch 15/40\n",
      "165/165 [==============================] - 15s 91ms/step - loss: 0.1123 - accuracy: 0.9660\n",
      "Epoch 16/40\n",
      "165/165 [==============================] - 15s 89ms/step - loss: 0.1073 - accuracy: 0.9667\n",
      "Epoch 17/40\n",
      "165/165 [==============================] - 15s 90ms/step - loss: 0.1017 - accuracy: 0.9684\n",
      "Epoch 18/40\n",
      "165/165 [==============================] - 15s 90ms/step - loss: 0.1016 - accuracy: 0.9683\n",
      "Epoch 19/40\n",
      "165/165 [==============================] - 15s 91ms/step - loss: 0.0980 - accuracy: 0.9685\n",
      "Epoch 20/40\n",
      "165/165 [==============================] - 15s 90ms/step - loss: 0.0964 - accuracy: 0.9696\n",
      "Epoch 21/40\n",
      "165/165 [==============================] - 15s 89ms/step - loss: 0.0931 - accuracy: 0.9705\n",
      "Epoch 22/40\n",
      "165/165 [==============================] - 15s 88ms/step - loss: 0.0942 - accuracy: 0.9708\n",
      "Epoch 23/40\n",
      "165/165 [==============================] - 15s 90ms/step - loss: 0.0901 - accuracy: 0.9720\n",
      "Epoch 24/40\n",
      "165/165 [==============================] - 15s 90ms/step - loss: 0.0954 - accuracy: 0.9704\n",
      "Epoch 25/40\n",
      "165/165 [==============================] - 15s 90ms/step - loss: 0.0871 - accuracy: 0.9727\n",
      "Epoch 26/40\n",
      "165/165 [==============================] - 15s 90ms/step - loss: 0.0846 - accuracy: 0.9736\n",
      "Epoch 27/40\n",
      "165/165 [==============================] - 17s 104ms/step - loss: 0.0851 - accuracy: 0.9727\n",
      "Epoch 28/40\n",
      "165/165 [==============================] - 15s 92ms/step - loss: 0.0877 - accuracy: 0.9721\n",
      "Epoch 29/40\n",
      "165/165 [==============================] - 15s 92ms/step - loss: 0.0852 - accuracy: 0.9729\n",
      "Epoch 30/40\n",
      "165/165 [==============================] - 15s 89ms/step - loss: 0.0796 - accuracy: 0.9754\n",
      "Epoch 31/40\n",
      "165/165 [==============================] - 15s 91ms/step - loss: 0.0809 - accuracy: 0.9752\n",
      "Epoch 32/40\n",
      "165/165 [==============================] - 15s 92ms/step - loss: 0.0781 - accuracy: 0.9754\n",
      "Epoch 33/40\n",
      "165/165 [==============================] - 15s 91ms/step - loss: 0.0831 - accuracy: 0.9742\n",
      "Epoch 34/40\n",
      "165/165 [==============================] - 15s 89ms/step - loss: 0.0806 - accuracy: 0.9745\n",
      "Epoch 35/40\n",
      "165/165 [==============================] - 15s 92ms/step - loss: 0.0752 - accuracy: 0.9766\n",
      "Epoch 36/40\n",
      "165/165 [==============================] - 15s 92ms/step - loss: 0.0794 - accuracy: 0.9739\n",
      "Epoch 37/40\n",
      "165/165 [==============================] - 15s 90ms/step - loss: 0.0726 - accuracy: 0.9767\n",
      "Epoch 38/40\n",
      "165/165 [==============================] - 15s 89ms/step - loss: 0.0801 - accuracy: 0.9738\n",
      "Epoch 39/40\n",
      "165/165 [==============================] - 15s 91ms/step - loss: 0.0713 - accuracy: 0.9781\n",
      "Epoch 40/40\n",
      "165/165 [==============================] - 15s 92ms/step - loss: 0.0731 - accuracy: 0.9768\n"
     ]
    },
    {
     "data": {
      "text/plain": [
       "<tensorflow.python.keras.callbacks.History at 0x7f48c7c12550>"
      ]
     },
     "execution_count": 9,
     "metadata": {},
     "output_type": "execute_result"
    }
   ],
   "source": [
    "#normalazing the data then training\n",
    "train_x = np.divide(train_x,255.0)\n",
    "\n",
    "model.fit_generator(datagen.flow(train_x,train_y,batch_size=256),epochs=40)"
   ]
  },
  {
   "cell_type": "code",
   "execution_count": 10,
   "metadata": {},
   "outputs": [],
   "source": []
  },
  {
   "cell_type": "code",
   "execution_count": 10,
   "metadata": {
    "_cell_guid": "79c7e3d0-c299-4dcb-8224-4455121ee9b0",
    "_uuid": "d629ff2d2480ee46fbb7e2d37f6b5fab8052498a"
   },
   "outputs": [],
   "source": [
    "#submition on test set\n",
    "\n",
    "test_raw = pd.read_csv('../input/test.csv')"
   ]
  },
  {
   "cell_type": "code",
   "execution_count": 11,
   "metadata": {},
   "outputs": [
    {
     "name": "stderr",
     "output_type": "stream",
     "text": [
      "/opt/conda/lib/python3.6/site-packages/ipykernel_launcher.py:3: FutureWarning: Method .as_matrix will be removed in a future version. Use .values instead.\n",
      "  This is separate from the ipykernel package so we can avoid doing imports until\n"
     ]
    }
   ],
   "source": [
    "# test data preprocess\n",
    "\n",
    "test = np.reshape(test_raw.as_matrix(),newshape=(28000,28,28,1))\n",
    "\n",
    "test = np.divide(test,255.0)"
   ]
  },
  {
   "cell_type": "code",
   "execution_count": 12,
   "metadata": {},
   "outputs": [],
   "source": [
    "predictions = model.predict(test)"
   ]
  },
  {
   "cell_type": "code",
   "execution_count": 13,
   "metadata": {},
   "outputs": [],
   "source": [
    "predictions = np.argmax(predictions,axis=1)"
   ]
  },
  {
   "cell_type": "code",
   "execution_count": 14,
   "metadata": {},
   "outputs": [],
   "source": [
    "submission = pd.DataFrame({'ImageId': np.arange(1,28001),\n",
    "                       'Label': predictions})\n",
    "submission.to_csv('submission.csv', index=False)"
   ]
  }
 ],
 "metadata": {
  "kernelspec": {
   "display_name": "Python 3",
   "language": "python",
   "name": "python3"
  },
  "language_info": {
   "codemirror_mode": {
    "name": "ipython",
    "version": 3
   },
   "file_extension": ".py",
   "mimetype": "text/x-python",
   "name": "python",
   "nbconvert_exporter": "python",
   "pygments_lexer": "ipython3",
   "version": "3.6.4"
  }
 },
 "nbformat": 4,
 "nbformat_minor": 1
}
